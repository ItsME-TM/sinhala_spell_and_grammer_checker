{
 "cells": [
  {
   "cell_type": "markdown",
   "metadata": {},
   "source": [
    "sinhala_grammer_checker"
   ]
  },
  {
   "cell_type": "code",
   "execution_count": null,
   "metadata": {},
   "outputs": [
    {
     "name": "stdout",
     "output_type": "stream",
     "text": [
      "Epoch 1/10\n",
      "361/361 [==============================] - 7s 14ms/step - loss: 2.3670 - accuracy: 0.5269 - val_loss: 1.0096 - val_accuracy: 0.7648\n",
      "Epoch 2/10\n",
      "361/361 [==============================] - 4s 11ms/step - loss: 0.7451 - accuracy: 0.8126 - val_loss: 0.5978 - val_accuracy: 0.8416\n",
      "Epoch 3/10\n",
      "361/361 [==============================] - 4s 12ms/step - loss: 0.5112 - accuracy: 0.8528 - val_loss: 0.4571 - val_accuracy: 0.8654\n",
      "Epoch 4/10\n",
      "361/361 [==============================] - 4s 12ms/step - loss: 0.3651 - accuracy: 0.8921 - val_loss: 0.3207 - val_accuracy: 0.9101\n",
      "Epoch 5/10\n",
      "361/361 [==============================] - 4s 12ms/step - loss: 0.2720 - accuracy: 0.9121 - val_loss: 0.2684 - val_accuracy: 0.9157\n",
      "Epoch 6/10\n",
      "361/361 [==============================] - 4s 12ms/step - loss: 0.2357 - accuracy: 0.9166 - val_loss: 0.2426 - val_accuracy: 0.9210\n",
      "Epoch 7/10\n",
      "361/361 [==============================] - 4s 11ms/step - loss: 0.2145 - accuracy: 0.9217 - val_loss: 0.2339 - val_accuracy: 0.9182\n",
      "Epoch 8/10\n",
      "361/361 [==============================] - 4s 12ms/step - loss: 0.2016 - accuracy: 0.9246 - val_loss: 0.2203 - val_accuracy: 0.9203\n",
      "Epoch 9/10\n",
      "361/361 [==============================] - 4s 12ms/step - loss: 0.1931 - accuracy: 0.9260 - val_loss: 0.2131 - val_accuracy: 0.9256\n",
      "Epoch 10/10\n",
      "361/361 [==============================] - 4s 12ms/step - loss: 0.1862 - accuracy: 0.9272 - val_loss: 0.2077 - val_accuracy: 0.9243\n"
     ]
    }
   ],
   "source": [
    "import pandas as pd\n",
    "import tensorflow as tf\n",
    "from tensorflow.keras.models import Model\n",
    "from tensorflow.keras.layers import Input, Embedding, LSTM, Dense\n",
    "from tensorflow.keras.preprocessing.text import Tokenizer\n",
    "from tensorflow.keras.preprocessing.sequence import pad_sequences\n",
    "from sklearn.model_selection import train_test_split\n",
    "\n",
    "# Load the dataset\n",
    "dataset_path = 'Dataset/sinhala_dataset.csv'\n",
    "data = pd.read_csv(dataset_path)\n",
    "\n",
    "# Prepare data\n",
    "input_texts = data['grammar_error_sentence'].values\n",
    "target_texts = data['corrected_sentence'].values\n",
    "\n",
    "# Tokenize the sentences\n",
    "tokenizer = Tokenizer()\n",
    "tokenizer.fit_on_texts(input_texts + target_texts)\n",
    "input_sequences = tokenizer.texts_to_sequences(input_texts)\n",
    "target_sequences = tokenizer.texts_to_sequences(target_texts)\n",
    "\n",
    "# Padding sequences\n",
    "max_seq_len = max(max(len(seq) for seq in input_sequences), max(len(seq) for seq in target_sequences))\n",
    "input_sequences = pad_sequences(input_sequences, maxlen=max_seq_len, padding='post')\n",
    "target_sequences = pad_sequences(target_sequences, maxlen=max_seq_len, padding='post')\n",
    "\n",
    "# Split the data\n",
    "X_train, X_test, y_train, y_test = train_test_split(input_sequences, target_sequences, test_size=0.2, random_state=42)\n",
    "\n",
    "# Model parameters\n",
    "vocab_size = len(tokenizer.word_index) + 1\n",
    "embedding_dim = 128\n",
    "lstm_units = 256\n",
    "\n",
    "# Define the model\n",
    "inputs = Input(shape=(max_seq_len,))\n",
    "x = Embedding(vocab_size, embedding_dim)(inputs)\n",
    "x = LSTM(lstm_units, return_sequences=True)(x)\n",
    "outputs = Dense(vocab_size, activation='softmax')(x)\n",
    "\n",
    "model = Model(inputs, outputs)\n",
    "model.compile(optimizer='adam', loss='sparse_categorical_crossentropy', metrics=['accuracy'])\n",
    "\n",
    "# Train the model\n",
    "model.fit(X_train, y_train, validation_data=(X_test, y_test), epochs=10, batch_size=32)\n",
    "\n",
    "# Save the model\n",
    "model.save('Models/LSTM_Model/lstm_sinhala_grammar_checker.h5')"
   ]
  },
  {
   "cell_type": "code",
   "execution_count": 21,
   "metadata": {},
   "outputs": [
    {
     "name": "stdout",
     "output_type": "stream",
     "text": [
      "1/1 [==============================] - 0s 35ms/step\n",
      "Corrected Sentence: මම නැටුම් වේගයෙන් යවමි\n"
     ]
    }
   ],
   "source": [
    "# Example prediction\n",
    "def correct_sentence(input_sentence):\n",
    "    sequence = tokenizer.texts_to_sequences([input_sentence])\n",
    "    padded_sequence = pad_sequences(sequence, maxlen=max_seq_len, padding='post')\n",
    "    prediction = model.predict(padded_sequence)\n",
    "    predicted_sequence = tf.argmax(prediction[0], axis=-1).numpy()\n",
    "    corrected_sentence = tokenizer.sequences_to_texts([predicted_sequence])[0]\n",
    "    return corrected_sentence\n",
    "\n",
    "# Test the model\n",
    "test_sentence = \"මම කමින් වේගයෙන් යනනෙමු\"\n",
    "print(\"Corrected Sentence:\", correct_sentence(test_sentence))"
   ]
  }
 ],
 "metadata": {
  "kernelspec": {
   "display_name": "py310_test",
   "language": "python",
   "name": "python3"
  },
  "language_info": {
   "codemirror_mode": {
    "name": "ipython",
    "version": 3
   },
   "file_extension": ".py",
   "mimetype": "text/x-python",
   "name": "python",
   "nbconvert_exporter": "python",
   "pygments_lexer": "ipython3",
   "version": "3.10.14"
  }
 },
 "nbformat": 4,
 "nbformat_minor": 2
}
